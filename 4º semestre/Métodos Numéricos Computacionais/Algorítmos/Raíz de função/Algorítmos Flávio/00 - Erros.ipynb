{
 "cells": [
  {
   "cell_type": "code",
   "execution_count": 1,
   "id": "bb322c01",
   "metadata": {},
   "outputs": [],
   "source": [
    "from sympy import *"
   ]
  },
  {
   "cell_type": "markdown",
   "id": "bb3a4cde",
   "metadata": {},
   "source": [
    "# Notação\n",
    "\n",
    "Raiz da função: $$\\overline{x}$$\n",
    "\n",
    "Erro na iteração k: $$e_k$$\n",
    "\n",
    "Em ambos os casos abaixo, dependemos que a sequência de aproximações convirja para a raiz, isto é:\n",
    "\n",
    "$$ lim_{k\\to\\infty} \\space x_k - \\overline{x} = 0 $$\n"
   ]
  },
  {
   "cell_type": "markdown",
   "id": "081743e1",
   "metadata": {},
   "source": [
    "## Erro absoluto\n",
    "É a distância absoluta entre valor exato da raiz e o seu valor aproximado.\n",
    "\n",
    "$$ e_k = | \\overline{x} - x_k | $$\n",
    "\n",
    "Como não sabemos o valor real da raiz, utilizamos o próximo valor aproximado:\n",
    "\n",
    "$$ e_{k+1} = | x_{k+1} - x_k | $$\n"
   ]
  },
  {
   "cell_type": "markdown",
   "id": "78e557e1",
   "metadata": {},
   "source": [
    "## Erro relativo\n",
    "\n",
    "É o erro em porcentagem, bom por levar em conta a ordem de grandeza dos valores em questão. Ás vezes é denotado por \"r\"\n",
    "\n",
    "$$e_k = \\frac {|\\overline{x} - x_k|} {|\\overline{x}|} $$\n",
    "\n",
    "Como não sabemos o valor real da raiz, utilizamos o valor aproximado que foi calculado na iteração anterior:\n",
    "\n",
    "$$ e_{k+1} = \\frac {|x_{k+1} - x_k|} {|x_{k+1}|} $$"
   ]
  },
  {
   "cell_type": "markdown",
   "id": "8cfc8fab",
   "metadata": {},
   "source": [
    "# Ordem de convergência\n",
    "Define o quão rápido a sequencia converge para a raiz, quanto maior, melhor.\n",
    "\n",
    "É denotada pela letra p em:\n",
    "\n",
    "$$ lim_{k\\to\\infty} \\space \\frac {|e_{k+1}|} {|e_k|^p} = c$$\n",
    "\n",
    "A constante c ( > 0 ) é chamada Constante Assintótica de Proporcionalidade e vale para toda iteração k\n",
    "\n",
    "Convergência linear, p = 1\n",
    "\n",
    "Convergência quadrática, p = 2\n",
    "\n",
    "Para um k suficientemente grande, sabemos que:\n",
    "\n",
    "$$e_{k+1} = c * e_k^p$$\n",
    "\n",
    "E para o k anterior (k-1):\n",
    "\n",
    "$$e_k = c * e_{k-1}^p$$\n",
    "\n",
    "Dividindo as duas equações:\n",
    "\n",
    "$$ \\frac{e_{k+1}}{e_k} = \\frac{c * e_k^p} {c * e_{k-1}^p} $$\n",
    "\n",
    "$$ \\frac{e_{k+1}}{e_k} = \\left( \\frac{e_k} {e_{k-1}} \\right)^p $$\n",
    "\n",
    "$$p = \\frac {\\ln{ \\frac {e_{k + 1}} {e_k} }} {\\ln{ \\frac {e_k} {e_{k - 1}} }}$$\n"
   ]
  }
 ],
 "metadata": {
  "kernelspec": {
   "display_name": "Python 3 (ipykernel)",
   "language": "python",
   "name": "python3"
  },
  "language_info": {
   "codemirror_mode": {
    "name": "ipython",
    "version": 3
   },
   "file_extension": ".py",
   "mimetype": "text/x-python",
   "name": "python",
   "nbconvert_exporter": "python",
   "pygments_lexer": "ipython3",
   "version": "3.9.12"
  }
 },
 "nbformat": 4,
 "nbformat_minor": 5
}

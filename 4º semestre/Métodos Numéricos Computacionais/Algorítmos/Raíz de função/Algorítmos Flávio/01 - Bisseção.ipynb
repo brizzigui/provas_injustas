{
 "cells": [
  {
   "cell_type": "code",
   "execution_count": 4,
   "id": "d5faac23",
   "metadata": {},
   "outputs": [],
   "source": [
    "from sympy import *"
   ]
  },
  {
   "cell_type": "markdown",
   "id": "3f53b882",
   "metadata": {},
   "source": [
    "## Método da Bisseção\n",
    "Ordem de convergência linear\n",
    "\n",
    "Criterio de parada (b - a) / 2 < tol"
   ]
  },
  {
   "cell_type": "markdown",
   "id": "7c61f3f1",
   "metadata": {},
   "source": [
    "Precisa de um intervalo definido no começo, através da análise gráfica\n",
    "Pegamos o exemplo de $$f(x) = \\frac{\\sin(x)} {(x-1)^2} -1$$\n",
    "\n",
    "Queremos $$ \\overline{x} $$ o zero da função, tal que $$f(\\overline{x}) = 0$$\n",
    "\n",
    "Ou seja, \n",
    "$$\\frac{\\sin(x)} {(x-1)^2} - 1 = 0 $$"
   ]
  },
  {
   "cell_type": "code",
   "execution_count": 81,
   "id": "ea81fdd8",
   "metadata": {
    "scrolled": true
   },
   "outputs": [
    {
     "data": {
      "image/png": "[encoded data removed]",
      "text/plain": [
       "<Figure size 432x288 with 1 Axes>"
      ]
     },
     "metadata": {
      "needs_background": "light"
     },
     "output_type": "display_data"
    },
    {
     "data": {
      "text/plain": [
       "<sympy.plotting.plot.Plot at 0x7fd735141f70>"
      ]
     },
     "execution_count": 81,
     "metadata": {},
     "output_type": "execute_result"
    }
   ],
   "source": [
    "x = symbols('x')\n",
    "def f(x):\n",
    "    return sin(x)/(x-1)**2 - 1\n",
    "\n",
    "plot(f(x), (x, 1, 3), ylim=[-1,2])"
   ]
  },
  {
   "cell_type": "markdown",
   "id": "42e58ed5",
   "metadata": {},
   "source": [
    "Da análise gráfica, percebemos que um dos zeros da função está entre 1 e 3.\n",
    "\n",
    "O método da bisseção parte do princípio de ralizar um média entre esses dois limites, e testar a imagem deste novo valor.\n",
    "\n",
    "Para ilustrar melhor, chamemos o limite superior de B, o limite inferior de A, e o próximo limite de R:\n",
    "\n",
    "$$ R = \\frac{A + B} {2}$$\n",
    "\n",
    "$$ R = \\frac{1 + 3} {2}$$\n",
    "\n",
    "$$ R = 2$$\n",
    "\n",
    "Sabendo disso, podemos substituir algum valor (A ou B) pelo nosso R. Mas note que precisamos manter a propriedade que as imagens de A e B tem sinais opostos, pois juntas \"cercam\" a raiz verdadeira. Disto sabemos que:\n",
    "\n",
    "$$f(A) * f(B) < 0$$\n",
    "\n",
    "Logo:\n",
    "\n",
    "SE f(A) * f(R) < 0:\n",
    "\n",
    "    B = R\n",
    "    \n",
    "SENAO \n",
    "\n",
    "    A = R\n",
    "    \n",
    "O que manterá os valores com sinais opostos.\n",
    "\n",
    "Perceba que R está sempre um passo mais próximo da raiz real da função $$\\overline{x}$$, então, se repetirmos este procedimento vezes suficientes, chegares a uma aproximação boa para a raiz real."
   ]
  },
  {
   "cell_type": "markdown",
   "id": "38eff4e6",
   "metadata": {},
   "source": [
    "# Erros\n",
    "\n",
    "Note que a distância entre R e a raiz verdadeira é sempre menor ou igual a distância entre A e B, já que tanto R quanto a raiz estão dentro do intervalo [A, B].\n",
    "\n",
    "Disso, decorre que $$ Erro < \\frac {B - A} {2} $$\n",
    "\n",
    "Isso nos permite uma condição de parada dada uma tolerancia para o erro. Quando soubermos que $$ \\frac {B - A} {2} < TOL $$ podemos encerrar as iterações"
   ]
  },
  {
   "cell_type": "code",
   "execution_count": 120,
   "id": "40a553fe",
   "metadata": {},
   "outputs": [],
   "source": [
    "#Método da bisseção mais simples\n",
    "def bis(f, a, b, tol):\n",
    "    if a > b:\n",
    "        a, b = b, a\n",
    "    \n",
    "    nf = 100 #limite de iterações\n",
    "    \n",
    "    for _ in range(nf):\n",
    "        r = (a + b) / 2 #novo valor\n",
    "        \n",
    "        fr = f(r)\n",
    "        fa = f(a)\n",
    "        fb = f(b)\n",
    "        \n",
    "        #se está contida na tolerancia\n",
    "        if (b - a)/2 < tol:\n",
    "            return r\n",
    "        \n",
    "        if fa * fr < 0:\n",
    "            b = r\n",
    "        else:\n",
    "            a = r\n",
    "    print(\"O método falhou\")"
   ]
  },
  {
   "cell_type": "markdown",
   "id": "a1334b5d",
   "metadata": {},
   "source": [
    "Como sempre estamos dividindo o intervalo ao meio, na n-esima iteração, temos que: $$ En < \\frac {B - A} {2^n} $$\n",
    "\n",
    "Se precisamos de uma precisao/tolerancia ε, podemos exigir que o erro seja menor que a nossa precisão se : $$ E < \\frac {B - A} {2^n} < \\epsilon$$\n",
    "\n",
    "Logo, se a fração do meio for menor que nossa tolerancia ao erro, sabemos que o erro verdadeiro também é. Isso, por si só, já serve como criterio de parada:\n",
    "\n",
    "$$\\frac {B - A} {2^n} < \\epsilon$$\n",
    "\n",
    "Isolando n (o número de iterações) temos que:\n",
    "\n",
    "$$ n = \\log_2 \\frac { B - A} {\\epsilon} $$\n",
    "\n",
    "Assim, sabemos o número de iterações necessárias para atingir a precisão requerida"
   ]
  },
  {
   "cell_type": "code",
   "execution_count": 121,
   "id": "71013d85",
   "metadata": {},
   "outputs": [],
   "source": [
    "#Método da bisseção utilizando o calculo do número de iterações\n",
    "#Não me lembro do professor ter usado este (apesar de ter passado o conteúdo),\n",
    "#na duvida talvez seja melhor pegar o primeiro\n",
    "def bissection_method(f, a, b, err):\n",
    "    it = ( b - a ) / err\n",
    "    it = log( it, 2 )\n",
    "    it = ceiling( it )\n",
    "        \n",
    "    if not it.is_real:\n",
    "        print(\"O metodo falhou\")\n",
    "        return\n",
    "    \n",
    "    for _ in range(it):\n",
    "        r = (a + b) / 2\n",
    "        ya = f(a)\n",
    "        yb = f(b)\n",
    "        yr = f(r)\n",
    "        \n",
    "        if(ya * yr < 0):\n",
    "            b = r\n",
    "        else:\n",
    "            a = r\n",
    "    return r"
   ]
  },
  {
   "cell_type": "code",
   "execution_count": 122,
   "id": "bc760e25",
   "metadata": {
    "scrolled": true
   },
   "outputs": [
    {
     "name": "stdout",
     "output_type": "stream",
     "text": [
      "O metodo falhou\n",
      "None\n"
     ]
    }
   ],
   "source": [
    "#em um intervalo sem raiz\n",
    "print(bissection_method(f, 1.5, 1.2, 0.00001))"
   ]
  },
  {
   "cell_type": "code",
   "execution_count": 123,
   "id": "457c67b3",
   "metadata": {},
   "outputs": [
    {
     "name": "stdout",
     "output_type": "stream",
     "text": [
      "1.9615695476531982\n"
     ]
    }
   ],
   "source": [
    "#em um intervalo com raiz\n",
    "print(bissection_method(f, 1.5, 3, 0.000001))"
   ]
  },
  {
   "cell_type": "code",
   "execution_count": 125,
   "id": "50d2c382",
   "metadata": {
    "scrolled": true
   },
   "outputs": [
    {
     "name": "stdout",
     "output_type": "stream",
     "text": [
      "1.4999908447265624\n"
     ]
    }
   ],
   "source": [
    "#em um intervalo sem raiz\n",
    "print(bis(f, 1.5, 1.2, 0.00001))"
   ]
  },
  {
   "cell_type": "code",
   "execution_count": 126,
   "id": "86d16079",
   "metadata": {},
   "outputs": [
    {
     "name": "stdout",
     "output_type": "stream",
     "text": [
      "1.961568832397461\n"
     ]
    }
   ],
   "source": [
    "#em um intervalo com raiz\n",
    "print(bis(f, 1.5, 3, 0.00001))"
   ]
  },
  {
   "cell_type": "code",
   "execution_count": null,
   "id": "30b53f8a",
   "metadata": {},
   "outputs": [],
   "source": []
  }
 ],
 "metadata": {
  "kernelspec": {
   "display_name": "Python 3 (ipykernel)",
   "language": "python",
   "name": "python3"
  },
  "language_info": {
   "codemirror_mode": {
    "name": "ipython",
    "version": 3
   },
   "file_extension": ".py",
   "mimetype": "text/x-python",
   "name": "python",
   "nbconvert_exporter": "python",
   "pygments_lexer": "ipython3",
   "version": "3.9.12"
  }
 },
 "nbformat": 4,
 "nbformat_minor": 5
}
